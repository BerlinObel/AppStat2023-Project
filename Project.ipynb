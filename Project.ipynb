{
 "cells": [
  {
   "cell_type": "markdown",
   "metadata": {},
   "source": [
    "# AppStat 2023 Project\n",
    "\n",
    "## Group Members\n",
    "- Andras\n",
    "- Ellen\n",
    "- Oscar\n",
    "- Pernille\n",
    "- Rasmine "
   ]
  },
  {
   "cell_type": "code",
   "execution_count": 15,
   "metadata": {},
   "outputs": [],
   "source": [
    "from IPython.core.display import Latex\n",
    "\n",
    "def lprint(*args,**kwargs):\n",
    "    \"\"\"Pretty print arguments as LaTeX using IPython display system \n",
    "    \n",
    "    Parameters\n",
    "    ----------\n",
    "    args : tuple \n",
    "        What to print (in LaTeX math mode)\n",
    "    kwargs : dict \n",
    "        optional keywords to pass to `display` \n",
    "    \"\"\"\n",
    "    display(Latex('$$'+' '.join(args)+'$$'),**kwargs)"
   ]
  },
  {
   "cell_type": "markdown",
   "metadata": {},
   "source": [
    "## Error propagation\n",
    "Error propagation the local acceleration due to gravity _g_ using a pendulum and a slope experiment."
   ]
  },
  {
   "cell_type": "code",
   "execution_count": 23,
   "metadata": {},
   "outputs": [
    {
     "data": {
      "text/latex": [
       "$$g_{pendulum} = \\frac{4 \\pi^{2} L}{T^{2}}$$"
      ],
      "text/plain": [
       "<IPython.core.display.Latex object>"
      ]
     },
     "metadata": {},
     "output_type": "display_data"
    },
    {
     "data": {
      "text/latex": [
       "$$\\sigma_{gP} = \\sqrt{\\frac{64 \\pi^{4} L^{2} \\sigma_{T}^{2}}{T^{6}} + \\frac{16 \\pi^{4} \\sigma_{L}^{2}}{T^{4}}}$$"
      ],
      "text/plain": [
       "<IPython.core.display.Latex object>"
      ]
     },
     "metadata": {},
     "output_type": "display_data"
    },
    {
     "data": {
      "text/latex": [
       "$$g = (6.580 \\pm 2.362)\\,\\mathrm{m/s^2}$$"
      ],
      "text/plain": [
       "<IPython.core.display.Latex object>"
      ]
     },
     "metadata": {},
     "output_type": "display_data"
    },
    {
     "data": {
      "text/latex": [
       "$$g_{slope} = \\frac{a \\left(\\frac{0.4 R^{2}}{R^{2} - \\frac{d^{2}}{4}} + 1\\right)}{\\sin{\\left(\\theta \\right)}}$$"
      ],
      "text/plain": [
       "<IPython.core.display.Latex object>"
      ]
     },
     "metadata": {},
     "output_type": "display_data"
    },
    {
     "data": {
      "text/latex": [
       "$$\\sigma_{gS} = \\sqrt{\\frac{0.04 R^{4} a^{2} d^{2} \\sigma_{d}^{2}}{\\left(R^{2} - \\frac{d^{2}}{4}\\right)^{4} \\sin^{2}{\\left(\\theta \\right)}} + \\frac{0.64 a^{2} \\sigma_{r}^{2} \\left(- \\frac{R^{3}}{\\left(R^{2} - \\frac{d^{2}}{4}\\right)^{2}} + \\frac{R}{R^{2} - \\frac{d^{2}}{4}}\\right)^{2}}{\\sin^{2}{\\left(\\theta \\right)}} + \\frac{a^{2} \\sigma_{\\theta}^{2} \\left(\\frac{0.4 R^{2}}{R^{2} - \\frac{d^{2}}{4}} + 1\\right)^{2} \\cos^{2}{\\left(\\theta \\right)}}{\\sin^{4}{\\left(\\theta \\right)}} + \\frac{\\sigma_{a}^{2} \\left(\\frac{0.4 R^{2}}{R^{2} - \\frac{d^{2}}{4}} + 1\\right)^{2}}{\\sin^{2}{\\left(\\theta \\right)}}}$$"
      ],
      "text/plain": [
       "<IPython.core.display.Latex object>"
      ]
     },
     "metadata": {},
     "output_type": "display_data"
    },
    {
     "data": {
      "text/latex": [
       "$$g = (-9.622 \\pm 3.022)\\,\\mathrm{m/s^2}$$"
      ],
      "text/plain": [
       "<IPython.core.display.Latex object>"
      ]
     },
     "metadata": {},
     "output_type": "display_data"
    }
   ],
   "source": [
    "# Import SymPy: \n",
    "from sympy import * \n",
    "    \n",
    "# Define variables:\n",
    "L,T,theta,R,d, gp, gs,a = symbols(\"L, T, theta, R, d, g_pendulum, g_slope,a\")\n",
    "dL,dT,dth,dR,dd,dgp,dgs,da = symbols(\"sigma_L, sigma_T, sigma_theta, sigma_r, sigma_d, sigma_gP,sigma_gS,sigma_a\")\n",
    "\n",
    "# Pendulum:\n",
    "# Define relation, and print:\n",
    "gp = L * (2 * pi / T)**2 \n",
    "lprint(latex(Eq(symbols('g_pendulum'),gp)))\n",
    "\n",
    "# Calculate uncertainty and print:\n",
    "dgp = sqrt((gp.diff(L) * dL)**2 + (gp.diff(T) * dT)**2)\n",
    "lprint(latex(Eq(symbols('sigma_gP'), dgp)))\n",
    "\n",
    "# Turn expression into numerical functions \n",
    "fP = lambdify((L,T),gp)\n",
    "fdP = lambdify((L,dL,T,dT),dgp)\n",
    "\n",
    "# Define values and their errors\n",
    "# vL, vdL = mu1,sig1\n",
    "# vT, vdT = mu2,sig2\n",
    "\n",
    "vL, vdL = 1.5,0.2\n",
    "vT, vdT = 3,0.5\n",
    "\n",
    "\n",
    "# Numerically evaluate expressions and print \n",
    "vP = fP(vL,vT)\n",
    "vdP = fdP(vL,vdL,vT,vdT)\n",
    "lprint(fr'g = ({vP:.3f} \\pm {vdP:.3f})\\,\\mathrm{{m/s^2}}')\n",
    "\n",
    "# Pendulum:\n",
    "# Define relation, and print:\n",
    "gs = a/sin(theta) * (1+2/5 * R**2 / (R**2-(d/2)**2)) \n",
    "lprint(latex(Eq(symbols('g_slope'),gs)))\n",
    "\n",
    "# Calculate uncertainty and print:\n",
    "dgs = sqrt((gs.diff(a) * da)**2 + (gs.diff(theta) * dth)**2+ (gs.diff(R) * dR)**2+ (gs.diff(d) * dd)**2)\n",
    "lprint(latex(Eq(symbols('sigma_gS'), dgs)))\n",
    "\n",
    "# Turn expression into numerical functions \n",
    "fP = lambdify((a,theta,R,d),gs)\n",
    "fdP = lambdify((a,da,theta,dth,R,dR,d,dd),dgs)\n",
    "\n",
    "# Define values and their errors\n",
    "# vL, vdL = mu1,sig1\n",
    "# vT, vdT = mu2,sig2\n",
    "va,vtheta,vR,vd = 6.2, 30, 5, 5.0\n",
    "\n",
    "vda,vdtheta,vdR,vdd = 0.2, 2, 0.2, 0.1\n",
    "\n",
    "# Numerically evaluate expressions and print \n",
    "vP = fP(va,vtheta,vR,vd)\n",
    "vdP = fdP(va,vda,vtheta,vdtheta,vR,vdR,vd,vdd)\n",
    "lprint(fr'g = ({vP:.3f} \\pm {vdP:.3f})\\,\\mathrm{{m/s^2}}')\n",
    "\n",
    "\n",
    "\n",
    "# NOTE: Do the above analytical calculation before you continue below! Possibly use SymPy for the differentiations."
   ]
  },
  {
   "cell_type": "code",
   "execution_count": 166,
   "metadata": {},
   "outputs": [
    {
     "data": {
      "text/latex": [
       "$$P = 2 L + 2 W$$"
      ],
      "text/plain": [
       "<IPython.core.display.Latex object>"
      ]
     },
     "metadata": {},
     "output_type": "display_data"
    },
    {
     "data": {
      "text/latex": [
       "$$\\sigma_{P} = \\sqrt{4 \\sigma_{L}^{2} + 4 \\sigma_{W}^{2}}$$"
      ],
      "text/plain": [
       "<IPython.core.display.Latex object>"
      ]
     },
     "metadata": {},
     "output_type": "display_data"
    },
    {
     "data": {
      "text/latex": [
       "$$P = (8.600 \\pm 0.894)\\,\\mathrm{m}$$"
      ],
      "text/plain": [
       "<IPython.core.display.Latex object>"
      ]
     },
     "metadata": {},
     "output_type": "display_data"
    },
    {
     "data": {
      "text/latex": [
       "$$A = L W$$"
      ],
      "text/plain": [
       "<IPython.core.display.Latex object>"
      ]
     },
     "metadata": {},
     "output_type": "display_data"
    },
    {
     "data": {
      "text/latex": [
       "$$\\sigma_{A} = \\sqrt{L^{2} \\sigma_{W}^{2} + 1.0 L W \\sigma_{L} \\sigma_{W} + W^{2} \\sigma_{L}^{2}}$$"
      ],
      "text/plain": [
       "<IPython.core.display.Latex object>"
      ]
     },
     "metadata": {},
     "output_type": "display_data"
    },
    {
     "data": {
      "text/latex": [
       "$$A = (2.800 \\pm 0.904)\\,\\mathrm{m}$$"
      ],
      "text/plain": [
       "<IPython.core.display.Latex object>"
      ]
     },
     "metadata": {},
     "output_type": "display_data"
    },
    {
     "data": {
      "text/latex": [
       "$$D = \\sqrt{L^{2} + W^{2}}$$"
      ],
      "text/plain": [
       "<IPython.core.display.Latex object>"
      ]
     },
     "metadata": {},
     "output_type": "display_data"
    },
    {
     "data": {
      "text/latex": [
       "$$\\sigma_{D} = \\sqrt{\\frac{L^{2} \\sigma_{L}^{2}}{L^{2} + W^{2}} + 1.0 L W \\sigma_{L} \\sigma_{W} + \\frac{W^{2} \\sigma_{W}^{2}}{L^{2} + W^{2}}}$$"
      ],
      "text/plain": [
       "<IPython.core.display.Latex object>"
      ]
     },
     "metadata": {},
     "output_type": "display_data"
    },
    {
     "data": {
      "text/latex": [
       "$$D = (3.590 \\pm 0.615)\\,\\mathrm{m}$$"
      ],
      "text/plain": [
       "<IPython.core.display.Latex object>"
      ]
     },
     "metadata": {},
     "output_type": "display_data"
    }
   ],
   "source": [
    "# Import SymPy: \n",
    "from sympy import * \n",
    "\n",
    "rho = 0.5\n",
    "# Define variables:\n",
    "L,W,P,A,D = symbols(\"L, W, P, A, D\")\n",
    "dL,dW,dP,dA,dD = symbols(\"sigma_L, sigma_W, sigma_P, sigma_A, sigma_D\")\n",
    "\n",
    "# Perimeter:\n",
    "# Define relation, and print:\n",
    "P = 2*L + 2*W\n",
    "lprint(latex(Eq(symbols('P'),P)))\n",
    "\n",
    "# Calculate uncertainty and print:\n",
    "dP = sqrt((P.diff(L) * dL)**2 + (P.diff(W) * dW)**2 + 2 * rho * A.diff(L) * A.diff(W) * dL * dW)\n",
    "lprint(latex(Eq(symbols('sigma_P'), dP)))\n",
    "\n",
    "# Turn expression into numerical functions \n",
    "fP = lambdify((L,W),P)\n",
    "fdP = lambdify((L,dL,W,dW),dP)\n",
    "\n",
    "# Define values and their errors\n",
    "vL, vdL = mu1,sig1\n",
    "vW, vdW = mu2,sig2\n",
    "\n",
    "# Numerically evaluate expressions and print \n",
    "vP = fP(vL,vW)\n",
    "vdP = fdP(vL,vdL,vW,vdW)\n",
    "lprint(fr'P = ({vP:.3f} \\pm {vdP:.3f})\\,\\mathrm{{m}}')\n",
    "\n",
    "# Area:\n",
    "# Define relation, and print:\n",
    "A = L * W\n",
    "lprint(latex(Eq(symbols('A'),A)))\n",
    "\n",
    "# Calculate uncertainty and print:\n",
    "dA = sqrt(((A.diff(L)*dL))**2 + ((A.diff(W) * dW))**2 + 2 * rho * A.diff(L) * A.diff(W) * dL * dW)\n",
    "lprint(latex(Eq(symbols('sigma_A'), dA)))\n",
    "\n",
    "# Turn expression into numerical functions \n",
    "fA = lambdify((L,W),A)\n",
    "fdA = lambdify((L,dL,W,dW),dA)\n",
    "\n",
    "# Define values and their errors\n",
    "vL, vdL = mu1,sig1\n",
    "vW, vdW = mu2,sig2\n",
    "\n",
    "# Numerically evaluate expressions and print \n",
    "vA = fA(vL,vW)\n",
    "vdA = fdA(vL,vdL,vW,vdW)\n",
    "lprint(fr'A = ({vA:.3f} \\pm {vdA:.3f})\\,\\mathrm{{m}}')\n",
    "\n",
    "# Diagonal:\n",
    "# Define relation, and print:\n",
    "D = sqrt(L**2 + W**2)\n",
    "lprint(latex(Eq(symbols('D'),D)))\n",
    "\n",
    "# Calculate uncertainty and print:\n",
    "dD = sqrt((D.diff(L)*dL)**2 + (D.diff(W)*dW)**2+ 2 * rho * A.diff(L) * A.diff(W) * dL * dW)\n",
    "lprint(latex(Eq(symbols('sigma_D'), dD)))\n",
    "\n",
    "# Turn expression into numerical functions \n",
    "fD = lambdify((L,W),D)\n",
    "fdD = lambdify((L,dL,W,dW),dD)\n",
    "\n",
    "# Define values and their errors\n",
    "vL, vdL = mu1,sig1\n",
    "vW, vdW = mu2,sig2\n",
    "\n",
    "# Numerically evaluate expressions and print \n",
    "vD = fD(vL,vW)\n",
    "vdD = fdD(vL,vdL,vW,vdW)\n",
    "lprint(fr'D = ({vD:.3f} \\pm {vdD:.3f})\\,\\mathrm{{m}}')\n",
    "\n",
    "\n",
    "\n",
    "\n",
    "# NOTE: Do the above analytical calculation before you continue below! Possibly use SymPy for the differentiations."
   ]
  },
  {
   "cell_type": "code",
   "execution_count": 167,
   "metadata": {},
   "outputs": [],
   "source": [
    "import numpy as np                                     # Matlab like syntax for linear algebra and functions\n",
    "import matplotlib.pyplot as plt                        # Plots and figures like you know them from Matlab\n",
    "import seaborn as sns                                  # Make the plots nicer to look at\n",
    "from iminuit import Minuit                             # The actual fitting tool, better than scipy's\n",
    "import sys                                             # Modules to see files and folders in directories"
   ]
  },
  {
   "cell_type": "code",
   "execution_count": 168,
   "metadata": {},
   "outputs": [],
   "source": [
    "sys.path.append('../../External_Functions')\n",
    "from ExternalFunctions import Chi2Regression\n",
    "from ExternalFunctions import nice_string_output, add_text_to_ax # useful functions to print fit results on figure"
   ]
  }
 ],
 "metadata": {
  "executable": "/usr/bin/env python",
  "kernelspec": {
   "display_name": "Python 3",
   "language": "python",
   "name": "python3"
  },
  "language_info": {
   "codemirror_mode": {
    "name": "ipython",
    "version": 3
   },
   "file_extension": ".py",
   "mimetype": "text/x-python",
   "name": "python",
   "nbconvert_exporter": "python",
   "pygments_lexer": "ipython3",
   "version": "3.9.16"
  }
 },
 "nbformat": 4,
 "nbformat_minor": 4
}
