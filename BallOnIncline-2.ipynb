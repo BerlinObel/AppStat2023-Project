{
 "cells": [
  {
   "cell_type": "code",
   "execution_count": 4,
   "id": "1e9d9da6",
   "metadata": {},
   "outputs": [],
   "source": [
    "import numpy as np     \n",
    "import matplotlib.pyplot as plt  \n",
    "import math\n",
    "from scipy import stats    \n",
    "from iminuit import Minuit\n",
    "import sys    \n",
    "import glob\n",
    "\n",
    "\n",
    "sys.path.append('External_Functions')\n",
    "from ExternalFunctions import Chi2Regression\n",
    "from ExternalFunctions import nice_string_output, add_text_to_ax \n",
    "\n",
    "exp_all = glob.glob('Data/exp_*.txt')\n",
    "\n",
    "for i in range(len(exp_all)):\n",
    "    exp_all[i] = np.loadtxt(exp_all[i])\n"
   ]
  },
  {
   "cell_type": "code",
   "execution_count": 21,
   "id": "aa58423c",
   "metadata": {},
   "outputs": [
    {
     "data": {
      "text/plain": [
       "(array([-4.4725, -4.1625, -3.9275, -3.7475, -3.63  ]),\n",
       " array([2.75068695, 2.75068695, 2.75068695, 2.75068695, 2.75068695]))"
      ]
     },
     "execution_count": 21,
     "metadata": {},
     "output_type": "execute_result"
    }
   ],
   "source": []
  },
  {
   "cell_type": "code",
   "execution_count": null,
   "metadata": {},
   "outputs": [],
   "source": [
    "def extract_data(data):\n",
    "    t = []\n",
    "    s = []\n",
    "\n",
    "    for point in range(len(data)):\n",
    "        t_data_points = data[point][0]\n",
    "        t.append(t_data_points)\n",
    "    \n",
    "        s_data_points = data[point][1]\n",
    "        s.append(s_data_points)\n",
    "        \n",
    "        \n",
    "        \n",
    "    x = []\n",
    "        \n",
    "    \n",
    "    # Define the start and end of the interval \n",
    "    start = 0\n",
    "    end = len(s)\n",
    "\n",
    "\n",
    "    k = 0\n",
    "    \n",
    "    for k in range(start, end):\n",
    "        if s[k] >= 2.00000000000:\n",
    "\n",
    "            if s[k] <= 2.00000000000:\n",
    "                break\n",
    "                \n",
    "            x.append(k)\n",
    "            \n",
    "\n",
    "    x_array = np.array(x)\n",
    "\n",
    "\n",
    "    slice_sizes = []\n",
    "    slices = []\n",
    "    \n",
    "    for i in range(len(x_array)-1):\n",
    "        if x_array[i] + 1 != x_array[i+1]:\n",
    "            #print(i)\n",
    "            slice_sizes.append(i)\n",
    "\n",
    "\n",
    "\n",
    "    søjle1 = x_array[:slice_sizes[0]+1]\n",
    "    søjle2 = x_array[1 + slice_sizes[0]:slice_sizes[1]+1]\n",
    "    søjle3 = x_array[1 + slice_sizes[1]:slice_sizes[2]+1]\n",
    "    søjle4 = x_array[1 + slice_sizes[2]:slice_sizes[3]+1]\n",
    "    søjle5 = x_array[1 + slice_sizes[3]:]\n",
    "\n",
    "\n",
    "    # Extract the middle indexes of each of the søjler\n",
    "    middle1 = math.floor((len(søjle1) - 1)/2)\n",
    "    middle2 = len(søjle1) + math.floor((len(søjle2) - 1)/2)\n",
    "    middle3 = len(søjle1) + len(søjle2) + math.floor((len(søjle3) - 1)/2)\n",
    "    middle4 = len(søjle1) + len(søjle2)+ len(søjle3) + math.floor((len(søjle4) - 1)/2)\n",
    "    middle5 = len(søjle1) + len(søjle2)+ len(søjle3) + len(søjle4) + math.floor((len(søjle5) - 1)/2)\n",
    "\n",
    "       \n",
    "    t_results = np.array([t[x_array[middle1]], t[x_array[middle2]], t[x_array[middle3]], \n",
    "                          t[x_array[middle4]], t[x_array[middle5]]])\n",
    "    s_results = np.array([s[x_array[middle1]], s[x_array[middle2]], s[x_array[middle3]], \n",
    "                          s[x_array[middle4]], s[x_array[middle5]]])\n",
    "   \n",
    "\n",
    "    \n",
    "    #plt.plot(t,s)\n",
    "    #plt.show()\n",
    "        \n",
    "    return t_results, s_results\n",
    "\n"
   ]
  },
  {
   "cell_type": "code",
   "execution_count": 6,
   "id": "0ee4f771",
   "metadata": {},
   "outputs": [],
   "source": [
    "def quadratic_model(x, a, b, c):\n",
    "    return 1/2*a*x**2 + b*x + c"
   ]
  },
  {
   "cell_type": "code",
   "execution_count": 22,
   "id": "2cd530a6",
   "metadata": {},
   "outputs": [
    {
     "name": "stdout",
     "output_type": "stream",
     "text": [
      "[array([-4.4725, -4.1625, -3.9275, -3.7475, -3.63  ]), array([-3.73   , -3.4225 , -3.18875, -3.0075 , -2.89   ]), array([-3.9375 , -3.6325 , -3.39875, -3.22   , -3.10375]), array([-4.1475 , -3.84125, -3.60875, -3.43   , -3.31375]), array([-4.26125, -3.955  , -3.7225 , -3.54375, -3.4275 ]), array([-4.275  , -3.96875, -3.73625, -3.5575 , -3.44125]), array([-4.42   , -4.1125 , -3.88   , -3.70125, -3.585  ]), array([-4.385  , -4.07875, -3.84625, -3.6675 , -3.55   ]), array([-4.165  , -3.8575 , -3.62375, -3.44375, -3.32625]), array([-3.9175 , -3.61   , -3.37625, -3.1975 , -3.08125]), array([-4.29375, -3.9875 , -3.755  , -3.57625, -3.46   ]), array([-4.255  , -3.94875, -3.71625, -3.5375 , -3.42125]), array([-4.2825 , -3.9775 , -3.745  , -3.56625, -3.44875]), array([-3.71125, -3.40375, -3.17   , -2.99   , -2.87125]), array([-4.1625 , -3.85375, -3.62   , -3.44   , -3.3225 ]), array([-4.2425 , -3.935  , -3.70125, -3.52   , -3.4025 ]), array([-3.6025 , -3.29625, -3.0625 , -2.88375, -2.76625]), array([-3.3825 , -3.0725 , -2.83875, -2.65875, -2.54   ]), array([-3.54625, -3.23   , -2.995  , -2.81375, -2.69625]), array([-4.22875, -3.92125, -3.6875 , -3.5075 , -3.39   ])]\n"
     ]
    }
   ],
   "source": [
    "results_t = []\n",
    "results_s = []\n",
    "\n",
    "\n",
    "for i in range(len(exp_all)):\n",
    "    t, s = extract_data(exp_all[i])\n",
    "    results_t.append(t)\n",
    "    results_s.append(s) \n",
    "\n",
    "\n",
    "\n",
    "\n",
    "print(results_t)\n"
   ]
  },
  {
   "cell_type": "code",
   "execution_count": null,
   "metadata": {},
   "outputs": [],
   "source": []
  },
  {
   "cell_type": "code",
   "execution_count": 26,
   "id": "ddc8a341",
   "metadata": {},
   "outputs": [
    {
     "name": "stderr",
     "output_type": "stream",
     "text": [
      "/Users/oscarobel/Github/AppStat2023-Project/External_Functions/ExternalFunctions.py:113: VisibleDeprecationWarning: make_func_code is deprecated: Use of ``func_code`` attribute to declare parameters is deprecated. Use ``_parameters`` instead, which is a dict of parameter names to limits.\n",
      "  self.func_code = make_func_code(describe(self.f)[1:])\n"
     ]
    },
    {
     "ename": "NameError",
     "evalue": "name 'x_data' is not defined",
     "output_type": "error",
     "traceback": [
      "\u001b[0;31m---------------------------------------------------------------------------\u001b[0m",
      "\u001b[0;31mNameError\u001b[0m                                 Traceback (most recent call last)",
      "\u001b[1;32m/Users/oscarobel/Github/AppStat2023-Project/BallOnIncline-2.ipynb Cell 7\u001b[0m line \u001b[0;36m2\n\u001b[1;32m     <a href='vscode-notebook-cell:/Users/oscarobel/Github/AppStat2023-Project/BallOnIncline-2.ipynb#W4sZmlsZQ%3D%3D?line=25'>26</a>\u001b[0m fig, ax \u001b[39m=\u001b[39m plt\u001b[39m.\u001b[39msubplots(nrows\u001b[39m=\u001b[39m\u001b[39m2\u001b[39m,figsize\u001b[39m=\u001b[39m(\u001b[39m16\u001b[39m, \u001b[39m8\u001b[39m))\n\u001b[1;32m     <a href='vscode-notebook-cell:/Users/oscarobel/Github/AppStat2023-Project/BallOnIncline-2.ipynb#W4sZmlsZQ%3D%3D?line=26'>27</a>\u001b[0m \u001b[39m#ax[0].errorbar(x_data, exp_1_results_s[iexp],0.033, fmt='ro', ecolor='k', elinewidth=1, capsize=2, capthick=1)\u001b[39;00m\n\u001b[0;32m---> <a href='vscode-notebook-cell:/Users/oscarobel/Github/AppStat2023-Project/BallOnIncline-2.ipynb#W4sZmlsZQ%3D%3D?line=27'>28</a>\u001b[0m ax[\u001b[39m0\u001b[39m]\u001b[39m.\u001b[39mplot(x_data, quadratic_model(x_data, \u001b[39m*\u001b[39mm\u001b[39m.\u001b[39mvalues[:]), \u001b[39m'\u001b[39m\u001b[39m-r\u001b[39m\u001b[39m'\u001b[39m)\n\u001b[1;32m     <a href='vscode-notebook-cell:/Users/oscarobel/Github/AppStat2023-Project/BallOnIncline-2.ipynb#W4sZmlsZQ%3D%3D?line=29'>30</a>\u001b[0m d \u001b[39m=\u001b[39m {\u001b[39m'\u001b[39m\u001b[39ma\u001b[39m\u001b[39m'\u001b[39m: [m\u001b[39m.\u001b[39mvalues[\u001b[39m'\u001b[39m\u001b[39mc\u001b[39m\u001b[39m'\u001b[39m], m\u001b[39m.\u001b[39merrors[\u001b[39m'\u001b[39m\u001b[39mc\u001b[39m\u001b[39m'\u001b[39m]],\n\u001b[1;32m     <a href='vscode-notebook-cell:/Users/oscarobel/Github/AppStat2023-Project/BallOnIncline-2.ipynb#W4sZmlsZQ%3D%3D?line=30'>31</a>\u001b[0m \u001b[39m'\u001b[39m\u001b[39mb\u001b[39m\u001b[39m'\u001b[39m: [m\u001b[39m.\u001b[39mvalues[\u001b[39m'\u001b[39m\u001b[39mb\u001b[39m\u001b[39m'\u001b[39m], m\u001b[39m.\u001b[39merrors[\u001b[39m'\u001b[39m\u001b[39mb\u001b[39m\u001b[39m'\u001b[39m]],\n\u001b[1;32m     <a href='vscode-notebook-cell:/Users/oscarobel/Github/AppStat2023-Project/BallOnIncline-2.ipynb#W4sZmlsZQ%3D%3D?line=31'>32</a>\u001b[0m \u001b[39m'\u001b[39m\u001b[39mc\u001b[39m\u001b[39m'\u001b[39m:    [m\u001b[39m.\u001b[39mvalues[\u001b[39m'\u001b[39m\u001b[39ma\u001b[39m\u001b[39m'\u001b[39m], m\u001b[39m.\u001b[39merrors[\u001b[39m'\u001b[39m\u001b[39ma\u001b[39m\u001b[39m'\u001b[39m]],\n\u001b[0;32m   (...)\u001b[0m\n\u001b[1;32m     <a href='vscode-notebook-cell:/Users/oscarobel/Github/AppStat2023-Project/BallOnIncline-2.ipynb#W4sZmlsZQ%3D%3D?line=34'>35</a>\u001b[0m \u001b[39m'\u001b[39m\u001b[39mProb\u001b[39m\u001b[39m'\u001b[39m:     ProbQua,\n\u001b[1;32m     <a href='vscode-notebook-cell:/Users/oscarobel/Github/AppStat2023-Project/BallOnIncline-2.ipynb#W4sZmlsZQ%3D%3D?line=35'>36</a>\u001b[0m }\n\u001b[1;32m     <a href='vscode-notebook-cell:/Users/oscarobel/Github/AppStat2023-Project/BallOnIncline-2.ipynb#W4sZmlsZQ%3D%3D?line=37'>38</a>\u001b[0m text \u001b[39m=\u001b[39m nice_string_output(d, extra_spacing\u001b[39m=\u001b[39m\u001b[39m2\u001b[39m, decimals\u001b[39m=\u001b[39m\u001b[39m3\u001b[39m)\n",
      "\u001b[0;31mNameError\u001b[0m: name 'x_data' is not defined"
     ]
    },
    {
     "data": {
      "image/png": "[encoded data removed]",
      "text/plain": [
       "<Figure size 1600x800 with 2 Axes>"
      ]
     },
     "metadata": {},
     "output_type": "display_data"
    }
   ],
   "source": [
    "\"\"\"Den her boks er overhovedet ikke rigtig. Det er lige work in progress for Pernille og mig ;)\"\"\"\n",
    "\n",
    "N_exp = len(exp_all)\n",
    "N_measurements = 5\n",
    "\n",
    "\n",
    "x_data = np.array([0.5, 1.0, 1.5, 2.0, 2.5])\n",
    "\n",
    "Ball_Chi2 = np.zeros(N_exp)\n",
    "Ball_Prob = np.zeros(N_exp)\n",
    "\n",
    "for iexp in range(N_exp):\n",
    "    exp_1_results_t = results_t[iexp]\n",
    "\n",
    "\n",
    "    chi2_object = Chi2Regression(quadratic_model, exp_1_results_t, exp_1_results_s)\n",
    "    m = Minuit(chi2_object, a=7.5, b=2, c=1)\n",
    "    m.migrad()\n",
    "\n",
    "    Chi2Qua = m.fval # the chi2 value\n",
    "    NvarQua = 3                      # Number of variables (a, b and c)\n",
    "    NdofQua = N_measurements - NvarQua   # Number of degrees of freedom\n",
    "    ProbQua =  stats.chi2.sf(Chi2Qua, NdofQua) # The chi2 probability given N_DOF degrees of freedom\n",
    "    \n",
    "    Ball_Chi2[iexp] = Chi2Qua\n",
    "    Ball_Prob[iexp] = ProbQua\n",
    "    \n",
    "    fig, ax = plt.subplots(nrows=2,figsize=(16, 8))\n",
    "    #ax[0].errorbar(x_data, exp_1_results_s[iexp],0.033, fmt='ro', ecolor='k', elinewidth=1, capsize=2, capthick=1)\n",
    "    ax[0].plot(x_data, quadratic_model(x_data, *m.values[:]), '-r')\n",
    "    \n",
    "    d = {'a': [m.values['c'], m.errors['c']],\n",
    "    'b': [m.values['b'], m.errors['b']],\n",
    "    'c':    [m.values['a'], m.errors['a']],\n",
    "    'Chi2':     Chi2Qua,\n",
    "    'ndf':      NdofQua,\n",
    "    'Prob':     ProbQua,\n",
    "    }\n",
    "    \n",
    "    text = nice_string_output(d, extra_spacing=2, decimals=3)\n",
    "    add_text_to_ax(0.04, 0.95, text, ax[0], fontsize=20)\n",
    "    fig.tight_layout()\n"
   ]
  },
  {
   "cell_type": "markdown",
   "id": "2ad29c66",
   "metadata": {},
   "source": [
    "# Error propagation mm"
   ]
  },
  {
   "cell_type": "code",
   "execution_count": null,
   "id": "92cefbc6",
   "metadata": {},
   "outputs": [],
   "source": [
    "# For both the pendulum and the ball on incline, we have the following \n",
    "# variables: L, T, a, R, d\n",
    "# The value and the uncertainty for each variable is defined here:\n",
    "\n",
    "muL = 1.0\n",
    "sigL = 1.0\n",
    "muT = 1.0\n",
    "sigT = 1.0\n",
    "mua = 1.0\n",
    "siga = 1.0\n",
    "muR = 1.0\n",
    "sigR = 1.0\n",
    "mud = 1.0\n",
    "sigd = 1.0\n",
    "muA = 1.0           # A for angle\n",
    "sigA = 1.0\n",
    "\n",
    "# Define experiment: pendulum or incline\n",
    "mode = 'incline'"
   ]
  },
  {
   "cell_type": "code",
   "execution_count": null,
   "id": "c5361fd2",
   "metadata": {},
   "outputs": [],
   "source": [
    "from IPython.core.display import Latex\n",
    "\n",
    "def lprint(*args,**kwargs):\n",
    "    \"\"\"Pretty print arguments as LateX using Ipython dysplay system\n",
    "     \n",
    "      Parameters\n",
    "    --------------\n",
    "    args : tuple\n",
    "        What to print (in LateX math mode)\n",
    "    kwargs : dict\n",
    "        optional keywords to pass to 'display'\n",
    "     \"\"\"\n",
    "    display(Latex('$$'+' '.join(args)+'$$'),**kwargs)\n",
    "    "
   ]
  },
  {
   "cell_type": "code",
   "execution_count": null,
   "id": "dcb7efe3",
   "metadata": {},
   "outputs": [],
   "source": [
    "# Ipmort SymPy\n",
    "from sympy import *\n",
    "\n",
    "# Define variables and print\n",
    "L,T,a,R,d,A,g = symbols(\"L, T, a, R, d, A, g\")\n",
    "dL,dT,da,dR,dd,dA,dg = symbols(\"sigma_L, sigma_T, sigma_a, sigma_R, sigma_d, sigma_A, sigma_g\")\n",
    "\n",
    "# Pendulum and incline\n",
    "# Define relation\n",
    "\n",
    "if mode == 'pendulum':\n",
    "# Pendulum\n",
    "    g = L*((2*pi)/T)**2\n",
    "if mode == 'incline':\n",
    "# Incline\n",
    "    g = (a/sin(A+A))*(1+(2/5)*(R**2/(R**2-(d/2)**2)))\n",
    "\n",
    "lprint(latex(Eq(symbols('g'), g)))\n"
   ]
  },
  {
   "cell_type": "code",
   "execution_count": null,
   "id": "47e97992",
   "metadata": {},
   "outputs": [],
   "source": [
    "# Calculate uncertainty and print\n",
    "# Pendulum\n",
    "if mode == 'pendulum':\n",
    "    dg = sqrt((g.diff(L)*dL)**2 + (g.diff(T)*dT)**2)\n",
    "# Incline\n",
    "if mode == 'incline':\n",
    "    dg = sqrt((g.diff(a)*da)**2 + (g.diff(A)*dA)**2 + (g.diff(R)*dR)**2 + (g.diff(d)*dd)**2)\n",
    "\n",
    "# Turn expression into numerical functions\n",
    "if mode == 'pendulum':\n",
    "    fg = lambdify((L,T), g)\n",
    "    fdg = lambdify((L,dL,T,dT),dg)\n",
    "\n",
    "if mode == 'incline':\n",
    "    fg = lambdify((a,A,R,d), g)\n",
    "    fdg = lambdify((a,da,A,dA,R,dR,d,dd),dg)\n",
    "\n",
    "# Define values and their errors\n",
    "vL, vdL = muL, sigL\n",
    "vT, vdT = muT, sigT\n",
    "va, vda = mua, siga\n",
    "vR, vdR = muR, sigR\n",
    "vd, vdd = mud, sigd\n",
    "vA, vdA = muA, sigA\n",
    "\n",
    "# Numerically evaluate expressions and print\n",
    "if mode == 'pendulum':\n",
    "    vg = fg(vL,vT)\n",
    "    vdg = fdg(vL,vdL,vT,vdT)\n",
    "if mode == 'incline':\n",
    "    vg = fg(va,vA,vR,vd)\n",
    "    vdg = fdg(va,vda,vA,vdA,vR,vdR,vd,vdd)\n",
    "\n",
    "lprint(fr'g = ({vg:.1f} \\pm {vdg:.1f})\\,\\mathrm{{m}}')"
   ]
  }
 ],
 "metadata": {
  "kernelspec": {
   "display_name": "Python 3 (ipykernel)",
   "language": "python",
   "name": "python3"
  },
  "language_info": {
   "codemirror_mode": {
    "name": "ipython",
    "version": 3
   },
   "file_extension": ".py",
   "mimetype": "text/x-python",
   "name": "python",
   "nbconvert_exporter": "python",
   "pygments_lexer": "ipython3",
   "version": "3.9.16"
  }
 },
 "nbformat": 4,
 "nbformat_minor": 5
}
